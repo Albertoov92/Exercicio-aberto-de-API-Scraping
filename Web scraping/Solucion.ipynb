{
 "cells": [
  {
   "cell_type": "code",
   "execution_count": 1,
   "metadata": {},
   "outputs": [],
   "source": [
    "import requests\n",
    "from bs4 import BeautifulSoup"
   ]
  },
  {
   "cell_type": "code",
   "execution_count": 140,
   "metadata": {},
   "outputs": [],
   "source": [
    "url= 'https://www.libreriabahia.com/es/home_libros'\n",
    "headers = { 'User-Agent' : 'Mozilla/5.0 (X11; Ubuntu; Linux x86_64; rv:94.0) Gecko/20100101 Firefox/94.0' }\n",
    "paxina = requests.get(url, headers = headers)\n",
    "soup = BeautifulSoup(paxina.content,'html.parser')\n"
   ]
  },
  {
   "cell_type": "code",
   "execution_count": 41,
   "metadata": {},
   "outputs": [
    {
     "name": "stdout",
     "output_type": "stream",
     "text": [
      "TOKYO REVENGERS 03\n",
      "HAIKY-!! Nº 04\n",
      "SOLO LEVELING 04\n",
      "DRAGON BALL SUPER Nº 14\n",
      "LA GRUTA DE LAS ESTRELLAS\n",
      "PRINCESAS. VÍSTEME CON PEGATINAS\n",
      "FROZEN 2. VÍSTEME CON PEGATINAS\n",
      "MINNIE. VÍSTEME CON PEGATINAS\n",
      "LA INVENCIÓN DEL REINO VEGETAL\n",
      "EL MUNDO ILUSTRADO DE TOLKIEN\n",
      "MINDFULNESS EN LA VIDA COTIDIANA\n",
      "HISTORIA DE LOS PERDEDORES\n"
     ]
    }
   ],
   "source": [
    "#Imprime los libros que hay disponibles\n",
    "result = soup.find_all('form')\n",
    "for libros in result:\n",
    "    libro=libros.find_all(class_='title')\n",
    "    for s in libro:\n",
    "        print(s.text.strip('(\\r)(\\n)'))\n",
    "\n"
   ]
  },
  {
   "cell_type": "code",
   "execution_count": 138,
   "metadata": {},
   "outputs": [
    {
     "name": "stdout",
     "output_type": "stream",
     "text": [
      "TOKYO REVENGERS 03                         WAKUI, KEN    \n",
      "HAIKY-!! Nº 04                         FURUDATE, HARUICHI    \n",
      "SOLO LEVELING 04                         CHUGONG    \n",
      "DRAGON BALL SUPER Nº 14                         TORIYAMA, AKIRA             /             TOYOTAR\"    \n",
      "LA GRUTA DE LAS ESTRELLAS                         STILTON, TEA    \n",
      "PRINCESAS. VÍSTEME CON PEGATINAS                         DISNEY    \n",
      "FROZEN 2. VÍSTEME CON PEGATINAS                         DISNEY    \n",
      "MINNIE. VÍSTEME CON PEGATINAS                         DISNEY    \n",
      "LA INVENCIÓN DEL REINO VEGETAL                         S. ERICE, AINA    \n",
      "EL MUNDO ILUSTRADO DE TOLKIEN                         DAY, DAVID    \n",
      "MINDFULNESS EN LA VIDA COTIDIANA                         KABAT-ZINN, JON    \n",
      "HISTORIA DE LOS PERDEDORES                         ÍÑIGO FERNÁNDEZ, LUIS E.    \n"
     ]
    }
   ],
   "source": [
    "#Imprime los libros y sus autores que hay disponibles\n",
    "result = soup.find_all('form')\n",
    "for libros in result:\n",
    "    libro=libros.find_all(class_='title')\n",
    "    autor=libros.find_all(class_='creator')\n",
    "    for s in range(len(libro)):\n",
    "        print(libro[s].text.strip('(\\r)(\\n)'),autor[s].text.strip('(\\r)(\\n)'))"
   ]
  },
  {
   "cell_type": "code",
   "execution_count": 139,
   "metadata": {},
   "outputs": [
    {
     "data": {
      "text/html": [
       "<div>\n",
       "<style scoped>\n",
       "    .dataframe tbody tr th:only-of-type {\n",
       "        vertical-align: middle;\n",
       "    }\n",
       "\n",
       "    .dataframe tbody tr th {\n",
       "        vertical-align: top;\n",
       "    }\n",
       "\n",
       "    .dataframe thead th {\n",
       "        text-align: right;\n",
       "    }\n",
       "</style>\n",
       "<table border=\"1\" class=\"dataframe\">\n",
       "  <thead>\n",
       "    <tr style=\"text-align: right;\">\n",
       "      <th></th>\n",
       "      <th>Libro</th>\n",
       "      <th>Precio</th>\n",
       "    </tr>\n",
       "  </thead>\n",
       "  <tbody>\n",
       "    <tr>\n",
       "      <th>0</th>\n",
       "      <td>TOKYO REVENGERS 03</td>\n",
       "      <td>16,00 €</td>\n",
       "    </tr>\n",
       "    <tr>\n",
       "      <th>1</th>\n",
       "      <td>HAIKY-!! Nº 04</td>\n",
       "      <td>7,95 €</td>\n",
       "    </tr>\n",
       "    <tr>\n",
       "      <th>2</th>\n",
       "      <td>SOLO LEVELING 04</td>\n",
       "      <td>14,96 €</td>\n",
       "    </tr>\n",
       "    <tr>\n",
       "      <th>3</th>\n",
       "      <td>DRAGON BALL SUPER Nº 14</td>\n",
       "      <td>7,95 €</td>\n",
       "    </tr>\n",
       "    <tr>\n",
       "      <th>4</th>\n",
       "      <td>LA GRUTA DE LAS ESTRELLAS</td>\n",
       "      <td>13,95 €</td>\n",
       "    </tr>\n",
       "    <tr>\n",
       "      <th>5</th>\n",
       "      <td>PRINCESAS. VÍSTEME CON PEGATINAS</td>\n",
       "      <td>7,95 €</td>\n",
       "    </tr>\n",
       "    <tr>\n",
       "      <th>6</th>\n",
       "      <td>FROZEN 2. VÍSTEME CON PEGATINAS</td>\n",
       "      <td>7,95 €</td>\n",
       "    </tr>\n",
       "    <tr>\n",
       "      <th>7</th>\n",
       "      <td>MINNIE. VÍSTEME CON PEGATINAS</td>\n",
       "      <td>7,95 €</td>\n",
       "    </tr>\n",
       "    <tr>\n",
       "      <th>8</th>\n",
       "      <td>LA INVENCIÓN DEL REINO VEGETAL</td>\n",
       "      <td>22,90 €</td>\n",
       "    </tr>\n",
       "    <tr>\n",
       "      <th>9</th>\n",
       "      <td>EL MUNDO ILUSTRADO DE TOLKIEN</td>\n",
       "      <td>30,00 €</td>\n",
       "    </tr>\n",
       "    <tr>\n",
       "      <th>10</th>\n",
       "      <td>MINDFULNESS EN LA VIDA COTIDIANA</td>\n",
       "      <td>21,00 €</td>\n",
       "    </tr>\n",
       "    <tr>\n",
       "      <th>11</th>\n",
       "      <td>HISTORIA DE LOS PERDEDORES</td>\n",
       "      <td>21,90 €</td>\n",
       "    </tr>\n",
       "  </tbody>\n",
       "</table>\n",
       "</div>"
      ],
      "text/plain": [
       "                               Libro   Precio\n",
       "0                 TOKYO REVENGERS 03  16,00 €\n",
       "1                     HAIKY-!! Nº 04   7,95 €\n",
       "2                   SOLO LEVELING 04  14,96 €\n",
       "3            DRAGON BALL SUPER Nº 14   7,95 €\n",
       "4          LA GRUTA DE LAS ESTRELLAS  13,95 €\n",
       "5   PRINCESAS. VÍSTEME CON PEGATINAS   7,95 €\n",
       "6    FROZEN 2. VÍSTEME CON PEGATINAS   7,95 €\n",
       "7      MINNIE. VÍSTEME CON PEGATINAS   7,95 €\n",
       "8     LA INVENCIÓN DEL REINO VEGETAL  22,90 €\n",
       "9      EL MUNDO ILUSTRADO DE TOLKIEN  30,00 €\n",
       "10  MINDFULNESS EN LA VIDA COTIDIANA  21,00 €\n",
       "11        HISTORIA DE LOS PERDEDORES  21,90 €"
      ]
     },
     "execution_count": 139,
     "metadata": {},
     "output_type": "execute_result"
    }
   ],
   "source": [
    "#Añade al DataFrame anterior si estan disponibles los libros\n",
    "data=[]\n",
    "result = soup.find_all('form')\n",
    "for libros in result:\n",
    "    libro=libros.find_all(class_='title')\n",
    "    precio=libros.find_all('strong')\n",
    "    for s in range(len(libro)):\n",
    "        data.append([libro[s].text.strip('(\\r)(\\n)'),precio[s].text])\n",
    "\n",
    "\n",
    "libros = pd.DataFrame(data,columns = ['Libro','Precio'])  \n",
    "libros"
   ]
  },
  {
   "cell_type": "code",
   "execution_count": 134,
   "metadata": {},
   "outputs": [
    {
     "data": {
      "text/html": [
       "<div>\n",
       "<style scoped>\n",
       "    .dataframe tbody tr th:only-of-type {\n",
       "        vertical-align: middle;\n",
       "    }\n",
       "\n",
       "    .dataframe tbody tr th {\n",
       "        vertical-align: top;\n",
       "    }\n",
       "\n",
       "    .dataframe thead th {\n",
       "        text-align: right;\n",
       "    }\n",
       "</style>\n",
       "<table border=\"1\" class=\"dataframe\">\n",
       "  <thead>\n",
       "    <tr style=\"text-align: right;\">\n",
       "      <th></th>\n",
       "      <th>Libro</th>\n",
       "      <th>Precio</th>\n",
       "      <th>dispo</th>\n",
       "    </tr>\n",
       "  </thead>\n",
       "  <tbody>\n",
       "    <tr>\n",
       "      <th>0</th>\n",
       "      <td>TOKYO REVENGERS 03</td>\n",
       "      <td>16,00 €</td>\n",
       "      <td>Consultar disponibilidad</td>\n",
       "    </tr>\n",
       "    <tr>\n",
       "      <th>1</th>\n",
       "      <td>HAIKY-!! Nº 04</td>\n",
       "      <td>7,95 €</td>\n",
       "      <td>No disponible</td>\n",
       "    </tr>\n",
       "    <tr>\n",
       "      <th>2</th>\n",
       "      <td>SOLO LEVELING 04</td>\n",
       "      <td>14,96 €</td>\n",
       "      <td>Consultar disponibilidad</td>\n",
       "    </tr>\n",
       "    <tr>\n",
       "      <th>3</th>\n",
       "      <td>DRAGON BALL SUPER Nº 14</td>\n",
       "      <td>7,95 €</td>\n",
       "      <td>No disponible</td>\n",
       "    </tr>\n",
       "    <tr>\n",
       "      <th>4</th>\n",
       "      <td>LA GRUTA DE LAS ESTRELLAS</td>\n",
       "      <td>13,95 €</td>\n",
       "      <td>Disponible</td>\n",
       "    </tr>\n",
       "    <tr>\n",
       "      <th>5</th>\n",
       "      <td>PRINCESAS. VÍSTEME CON PEGATINAS</td>\n",
       "      <td>7,95 €</td>\n",
       "      <td>Disponible</td>\n",
       "    </tr>\n",
       "    <tr>\n",
       "      <th>6</th>\n",
       "      <td>FROZEN 2. VÍSTEME CON PEGATINAS</td>\n",
       "      <td>7,95 €</td>\n",
       "      <td>Disponible</td>\n",
       "    </tr>\n",
       "    <tr>\n",
       "      <th>7</th>\n",
       "      <td>MINNIE. VÍSTEME CON PEGATINAS</td>\n",
       "      <td>7,95 €</td>\n",
       "      <td>Disponible</td>\n",
       "    </tr>\n",
       "    <tr>\n",
       "      <th>8</th>\n",
       "      <td>LA INVENCIÓN DEL REINO VEGETAL</td>\n",
       "      <td>22,90 €</td>\n",
       "      <td>Consultar disponibilidad</td>\n",
       "    </tr>\n",
       "    <tr>\n",
       "      <th>9</th>\n",
       "      <td>EL MUNDO ILUSTRADO DE TOLKIEN</td>\n",
       "      <td>30,00 €</td>\n",
       "      <td>Disponible</td>\n",
       "    </tr>\n",
       "    <tr>\n",
       "      <th>10</th>\n",
       "      <td>MINDFULNESS EN LA VIDA COTIDIANA</td>\n",
       "      <td>21,00 €</td>\n",
       "      <td>Disponible</td>\n",
       "    </tr>\n",
       "    <tr>\n",
       "      <th>11</th>\n",
       "      <td>HISTORIA DE LOS PERDEDORES</td>\n",
       "      <td>21,90 €</td>\n",
       "      <td>Consultar disponibilidad</td>\n",
       "    </tr>\n",
       "  </tbody>\n",
       "</table>\n",
       "</div>"
      ],
      "text/plain": [
       "                               Libro   Precio                      dispo\n",
       "0                 TOKYO REVENGERS 03  16,00 €   Consultar disponibilidad\n",
       "1                     HAIKY-!! Nº 04   7,95 €              No disponible\n",
       "2                   SOLO LEVELING 04  14,96 €   Consultar disponibilidad\n",
       "3            DRAGON BALL SUPER Nº 14   7,95 €              No disponible\n",
       "4          LA GRUTA DE LAS ESTRELLAS  13,95 €                 Disponible\n",
       "5   PRINCESAS. VÍSTEME CON PEGATINAS   7,95 €                 Disponible\n",
       "6    FROZEN 2. VÍSTEME CON PEGATINAS   7,95 €                 Disponible\n",
       "7      MINNIE. VÍSTEME CON PEGATINAS   7,95 €                 Disponible\n",
       "8     LA INVENCIÓN DEL REINO VEGETAL  22,90 €   Consultar disponibilidad\n",
       "9      EL MUNDO ILUSTRADO DE TOLKIEN  30,00 €                 Disponible\n",
       "10  MINDFULNESS EN LA VIDA COTIDIANA  21,00 €                 Disponible\n",
       "11        HISTORIA DE LOS PERDEDORES  21,90 €   Consultar disponibilidad"
      ]
     },
     "execution_count": 134,
     "metadata": {},
     "output_type": "execute_result"
    }
   ],
   "source": [
    "#Añade al DataFrame anterior si estan disponibles los libros\n",
    "data=[]\n",
    "result = soup.find_all('form')\n",
    "for libros in result:\n",
    "    libro=libros.find_all(class_='title')\n",
    "    precio=libros.find_all('strong')\n",
    "    dispo=libros.find_all(class_='disponibilidad')\n",
    "    for s in range(len(libro)):\n",
    "        data.append([libro[s].text.strip('(\\r)(\\n)'),precio[s].text,dispo[s].text])\n",
    "\n",
    "\n",
    "libros = pd.DataFrame(data,columns = ['Libro','Precio','dispo'])  \n",
    "libros\n",
    "\n",
    "\n"
   ]
  },
  {
   "cell_type": "code",
   "execution_count": 141,
   "metadata": {},
   "outputs": [
    {
     "data": {
      "text/plain": [
       "'https://www.libreriabahia.com/images/NOportada.jpg'"
      ]
     },
     "execution_count": 141,
     "metadata": {},
     "output_type": "execute_result"
    }
   ],
   "source": [
    "#Saca la imagen del libro DRAGON BALL SUPER\n",
    "soup.find(class_='foto').get('src')"
   ]
  },
  {
   "cell_type": "code",
   "execution_count": null,
   "metadata": {},
   "outputs": [],
   "source": []
  }
 ],
 "metadata": {
  "interpreter": {
   "hash": "4cb22c05fd7b6ce8f7446fa6a5e3c33491a218a2218c5fbef87a09a783a19026"
  },
  "kernelspec": {
   "display_name": "Python 3.9.10 64-bit (windows store)",
   "language": "python",
   "name": "python3"
  },
  "language_info": {
   "codemirror_mode": {
    "name": "ipython",
    "version": 3
   },
   "file_extension": ".py",
   "mimetype": "text/x-python",
   "name": "python",
   "nbconvert_exporter": "python",
   "pygments_lexer": "ipython3",
   "version": "3.9.10"
  },
  "orig_nbformat": 4
 },
 "nbformat": 4,
 "nbformat_minor": 2
}
