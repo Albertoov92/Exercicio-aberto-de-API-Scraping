{
 "cells": [
  {
   "cell_type": "markdown",
   "metadata": {},
   "source": [
    "BicisCoruña\n",
    "http://api.citybik.es/v2/networks/bicicorunha"
   ]
  },
  {
   "cell_type": "code",
   "execution_count": 1,
   "metadata": {},
   "outputs": [],
   "source": [
    "#Consulta os slots que hay valeiros nas 5 primeirs estacion mais o nome de cada unha."
   ]
  },
  {
   "cell_type": "code",
   "execution_count": 2,
   "metadata": {},
   "outputs": [],
   "source": [
    "#Consulta as bicicletas que hay dispoñibles nas 5 ultimas  estacions mais o nome de cada unha."
   ]
  },
  {
   "cell_type": "code",
   "execution_count": 3,
   "metadata": {},
   "outputs": [],
   "source": [
    "#Consulta as cordenadas da estacion atopada na Estación de autobuses."
   ]
  },
  {
   "cell_type": "code",
   "execution_count": 4,
   "metadata": {},
   "outputs": [],
   "source": [
    "#Crea un Dataframe cos nomes das estacións mais os slots valeiros mais as biciletas que estan libres"
   ]
  },
  {
   "cell_type": "code",
   "execution_count": 5,
   "metadata": {},
   "outputs": [],
   "source": [
    "#Por ultimo engade ao Dataframe antereior o estado de cada estación"
   ]
  },
  {
   "cell_type": "markdown",
   "metadata": {},
   "source": [
    "Currentsapi https://currentsapi.services/en/docs/"
   ]
  },
  {
   "cell_type": "code",
   "execution_count": 6,
   "metadata": {},
   "outputs": [],
   "source": [
    "#Para poder acceder a la API necesitaras reguistrar en la web para obtener tu apikey personal\n",
    "#Para comezar saca un listado das noticias en español que contegan la palabra covid"
   ]
  },
  {
   "cell_type": "code",
   "execution_count": 1,
   "metadata": {},
   "outputs": [],
   "source": [
    "#Saca un listado de las noticias en Español de la categoria 'technology' del  autor Pablo Rodríguez"
   ]
  },
  {
   "cell_type": "code",
   "execution_count": 2,
   "metadata": {},
   "outputs": [],
   "source": [
    "#Saca un listado de las noticias en Español desde el dia 2021-12-30 hasta 2022-01-15 de la categoria de los deportes"
   ]
  },
  {
   "cell_type": "code",
   "execution_count": 3,
   "metadata": {},
   "outputs": [],
   "source": [
    "#Saca un listado de las noticias de Italia que esten escritas en ingles"
   ]
  },
  {
   "cell_type": "code",
   "execution_count": null,
   "metadata": {},
   "outputs": [],
   "source": [
    "#Por ultimo saca las ultimas noticas escritas en español"
   ]
  }
 ],
 "metadata": {
  "interpreter": {
   "hash": "4cb22c05fd7b6ce8f7446fa6a5e3c33491a218a2218c5fbef87a09a783a19026"
  },
  "kernelspec": {
   "display_name": "Python 3.9.10 64-bit (windows store)",
   "language": "python",
   "name": "python3"
  },
  "language_info": {
   "codemirror_mode": {
    "name": "ipython",
    "version": 3
   },
   "file_extension": ".py",
   "mimetype": "text/x-python",
   "name": "python",
   "nbconvert_exporter": "python",
   "pygments_lexer": "ipython3",
   "version": "3.9.10"
  },
  "orig_nbformat": 4
 },
 "nbformat": 4,
 "nbformat_minor": 2
}
